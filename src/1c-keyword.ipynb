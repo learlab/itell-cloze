{
 "cells": [
  {
   "cell_type": "markdown",
   "id": "670e1086-2b3b-4e72-9a38-c21463a2d53a",
   "metadata": {},
   "source": [
    "# Keyword Deletion\n",
    "\n",
    "Extract keywords using [Yake!](https://doi.org/10.1016/j.ins.2019.09.013)\n",
    "\n",
    "Gap keywords in the Cloze passsage. If a keyword appears multiple times, gap all instances of the keyword."
   ]
  },
  {
   "cell_type": "code",
   "execution_count": 1,
   "id": "8cbc808f-5495-4a09-94e0-7fceadf1779b",
   "metadata": {},
   "outputs": [],
   "source": [
    "import yake "
   ]
  },
  {
   "cell_type": "code",
   "execution_count": 12,
   "id": "90d70440-6fc3-4957-8620-087b616a59f6",
   "metadata": {},
   "outputs": [],
   "source": [
    "language = \"en\"\n",
    "max_ngram_size = 1\n",
    "deduplication_threshold = 0.9\n",
    "deduplication_algo = 'seqm'\n",
    "windowSize = 1\n",
    "numOfKeywords = 6\n",
    "\n",
    "extractor = yake.KeywordExtractor(\n",
    "    lan=language,\n",
    "    n=max_ngram_size,\n",
    "    dedupLim=deduplication_threshold,\n",
    "    dedupFunc=deduplication_algo,\n",
    "    windowsSize=windowSize,\n",
    "    top=numOfKeywords,\n",
    "    features=None,\n",
    ")"
   ]
  },
  {
   "cell_type": "code",
   "execution_count": 13,
   "id": "2ad16c8f-340b-4830-b32b-5d197f75d83f",
   "metadata": {},
   "outputs": [],
   "source": [
    "def gap(text):\n",
    "    kws = extractor.extract_keywords(text)\n",
    "    for kw, score in kws:\n",
    "        text = text.replace(kw, \"_\" * len(kw))\n",
    "    return text"
   ]
  },
  {
   "cell_type": "code",
   "execution_count": 14,
   "id": "eb920209-f3a2-4f37-bc59-02df9b16c396",
   "metadata": {},
   "outputs": [
    {
     "name": "stdout",
     "output_type": "stream",
     "text": [
      "Cloze text:\n",
      "_________ on an international assignment, whether for ____ or _____, _______ navigating a complex \n",
      "landscape of emotional and ________ challenges. Initially marked by intrigue and excitement, expatriates often \n",
      "face _______ shock and a period of adjustment before embracing their host _______. This journey necessitates \n",
      "meticulous preparation akin to other significant life changes, emphasizing the importance of adaptability, \n",
      "language proficiency, and ________ understanding. Successful expatriates are those who, rather than succumbing \n",
      "to frustration, leverage these experiences to enhance their personal and professional growth. The process of \n",
      "acculturation involves various emotional stages, including initial elation, _______ shock, and eventual acceptance, \n",
      "followed by the challenges of reentry into one's native _______. Despite the potential for early termination of \n",
      "assignments due to family or personal issues, careful consideration and preparation can mitigate these risks, \n",
      "making international experience a valuable asset both personally and professionally.\n"
     ]
    }
   ],
   "source": [
    "text = \"\"\"The Cloze procedure, first introduced by Taylor, is a widely used method for creating reading \n",
    "comprehension tests inspired by the Gestalt principle of closure. Though many variations have been \n",
    "introduced and studied, the core concept is to mask words in prose and task the subject with providing \n",
    "the missing words.\"\"\"\n",
    "\n",
    "text = \"\"\"Embarking on an international assignment, whether for work or study, entails navigating a complex \n",
    "landscape of emotional and cultural challenges. Initially marked by intrigue and excitement, expatriates often \n",
    "face culture shock and a period of adjustment before embracing their host culture. This journey necessitates \n",
    "meticulous preparation akin to other significant life changes, emphasizing the importance of adaptability, \n",
    "language proficiency, and cultural understanding. Successful expatriates are those who, rather than succumbing \n",
    "to frustration, leverage these experiences to enhance their personal and professional growth. The process of \n",
    "acculturation involves various emotional stages, including initial elation, culture shock, and eventual acceptance, \n",
    "followed by the challenges of reentry into one's native culture. Despite the potential for early termination of \n",
    "assignments due to family or personal issues, careful consideration and preparation can mitigate these risks, \n",
    "making international experience a valuable asset both personally and professionally.\"\"\"\n",
    "\n",
    "cloze_text = gap(text)\n",
    "print(\"Cloze text:\")\n",
    "print(cloze_text)\n",
    "# print(\"\\nAnswers:\")\n",
    "# answer_dict = {answer: {word: round(prob,2) for word, prob in pred.items()} for answer, pred in zip(answers, preds)}\n",
    "# pp(answer_dict)"
   ]
  }
 ],
 "metadata": {
  "kernelspec": {
   "display_name": "Python [conda env:hf]",
   "language": "python",
   "name": "conda-env-hf-py"
  },
  "language_info": {
   "codemirror_mode": {
    "name": "ipython",
    "version": 3
   },
   "file_extension": ".py",
   "mimetype": "text/x-python",
   "name": "python",
   "nbconvert_exporter": "python",
   "pygments_lexer": "ipython3",
   "version": "3.11.6"
  }
 },
 "nbformat": 4,
 "nbformat_minor": 5
}
