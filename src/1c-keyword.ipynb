{
 "cells": [
  {
   "cell_type": "markdown",
   "id": "670e1086-2b3b-4e72-9a38-c21463a2d53a",
   "metadata": {},
   "source": [
    "# Keyword Deletion\n",
    "\n",
    "Extract keywords using [Yake!](https://doi.org/10.1016/j.ins.2019.09.013)\n",
    "\n",
    "Gap keywords in the Cloze passsage. If a keyword appears multiple times, gap all instances of the keyword."
   ]
  },
  {
   "cell_type": "code",
   "execution_count": 1,
   "id": "8cbc808f-5495-4a09-94e0-7fceadf1779b",
   "metadata": {},
   "outputs": [],
   "source": [
    "import yake"
   ]
  },
  {
   "cell_type": "code",
   "execution_count": 17,
   "id": "90d70440-6fc3-4957-8620-087b616a59f6",
   "metadata": {},
   "outputs": [],
   "source": [
    "args = {\n",
    "    \"lan\": \"en\",  # language\n",
    "    \"n\": 1,  # max ngram size\n",
    "    \"dedupLim\": 0.9,  # deduplication threshold theta\n",
    "    \"dedupFunc\": \"seqm\",\n",
    "    \"windowsSize\": 1,\n",
    "    \"top\": 6,  # Num keywords to return\n",
    "}\n",
    "\n",
    "extractor = yake.KeywordExtractor(**args)"
   ]
  },
  {
   "cell_type": "code",
   "execution_count": 31,
   "id": "9044c767-1a68-4af8-88d7-612a2795e546",
   "metadata": {},
   "outputs": [],
   "source": [
    "def gap(text, min_distance=30):\n",
    "    \"\"\"\n",
    "    Args:\n",
    "      text (str): input passage to be gapped\n",
    "      min_distance (int): minimum number of characters between gap start indexes\n",
    "    \"\"\"\n",
    "    extractor = yake.KeywordExtractor(n=1, top=10)\n",
    "\n",
    "    # Get keywords with scores\n",
    "    kws = extractor.extract_keywords(text)\n",
    "\n",
    "    # Sort keywords by score (higher score = more important)\n",
    "    sorted_kws = sorted(kws, key=lambda x: x[1], reverse=True)\n",
    "\n",
    "    # Keep track of positions where we've already gapped words\n",
    "    gapped_positions = []\n",
    "    answers = []\n",
    "\n",
    "    # Process each keyword\n",
    "    for kw, score in sorted_kws:\n",
    "        # Find all occurrences of the keyword\n",
    "        start_idx = 0\n",
    "        while start_idx < len(text):\n",
    "            idx = text.find(kw, start_idx)\n",
    "            if idx == -1:\n",
    "                break\n",
    "\n",
    "            # Check if this position is too close to any existing gap\n",
    "            too_close = False\n",
    "            for pos, length in gapped_positions:\n",
    "                if abs(idx - pos) < min_distance:\n",
    "                    too_close = True\n",
    "                    break\n",
    "\n",
    "            # If not too close, gap this occurrence\n",
    "            if not too_close:\n",
    "                text = text[:idx] + \"_\" * len(kw) + text[idx + len(kw) :]\n",
    "                gapped_positions.append((idx, len(kw)))\n",
    "                answers.append(kw)\n",
    "\n",
    "            # Move to next potential occurrence\n",
    "            start_idx = idx + 1\n",
    "\n",
    "    return text, answers"
   ]
  },
  {
   "cell_type": "code",
   "execution_count": 32,
   "id": "eb920209-f3a2-4f37-bc59-02df9b16c396",
   "metadata": {},
   "outputs": [
    {
     "name": "stdout",
     "output_type": "stream",
     "text": [
      "[('culture', 0.09336050545993559), ('Embarking', 0.13410709245603725), ('study', 0.13410709245603725), ('entails', 0.13410709245603725), ('cultural', 0.14330654539367615), ('work', 0.16051495746922928)]\n",
      "Cloze text:\n",
      "_________ on an international assignment, whether for ____ or study, entails navigating a complex \n",
      "landscape of emotional and ________ challenges. Initially marked by intrigue and excitement, expatriates often \n",
      "face _______ shock and a period of adjustment before embracing their host _______. This journey necessitates \n",
      "meticulous preparation akin to other significant life changes, emphasizing the importance of adaptability, \n",
      "language proficiency, and ________ understanding. Successful expatriates are those who, rather than succumbing \n",
      "to frustration, leverage these experiences to enhance their personal and professional growth. The process of \n",
      "acculturation involves various emotional stages, including initial elation, _______ shock, and eventual acceptance, \n",
      "followed by the challenges of reentry into one's native _______. Despite the potential for early termination of \n",
      "assignments due to family or personal issues, careful consideration and preparation can mitigate these risks, \n",
      "making international experience a valuable asset both personally and professionally.\n"
     ]
    }
   ],
   "source": [
    "text = \"\"\"The Cloze procedure, first introduced by Taylor, is a widely used method for creating reading \n",
    "comprehension tests inspired by the Gestalt principle of closure. Though many variations have been \n",
    "introduced and studied, the core concept is to mask words in prose and task the subject with providing \n",
    "the missing words.\"\"\"\n",
    "\n",
    "text = \"\"\"Embarking on an international assignment, whether for work or study, entails navigating a complex \n",
    "landscape of emotional and cultural challenges. Initially marked by intrigue and excitement, expatriates often \n",
    "face culture shock and a period of adjustment before embracing their host culture. This journey necessitates \n",
    "meticulous preparation akin to other significant life changes, emphasizing the importance of adaptability, \n",
    "language proficiency, and cultural understanding. Successful expatriates are those who, rather than succumbing \n",
    "to frustration, leverage these experiences to enhance their personal and professional growth. The process of \n",
    "acculturation involves various emotional stages, including initial elation, culture shock, and eventual acceptance, \n",
    "followed by the challenges of reentry into one's native culture. Despite the potential for early termination of \n",
    "assignments due to family or personal issues, careful consideration and preparation can mitigate these risks, \n",
    "making international experience a valuable asset both personally and professionally.\"\"\"\n",
    "\n",
    "cloze_text, answers = gap(text)\n",
    "print(\"Cloze text:\")\n",
    "print(cloze_text)"
   ]
  }
 ],
 "metadata": {
  "kernelspec": {
   "display_name": "Python [conda env:hf]",
   "language": "python",
   "name": "conda-env-hf-py"
  },
  "language_info": {
   "codemirror_mode": {
    "name": "ipython",
    "version": 3
   },
   "file_extension": ".py",
   "mimetype": "text/x-python",
   "name": "python",
   "nbconvert_exporter": "python",
   "pygments_lexer": "ipython3",
   "version": "3.11.6"
  }
 },
 "nbformat": 4,
 "nbformat_minor": 5
}
