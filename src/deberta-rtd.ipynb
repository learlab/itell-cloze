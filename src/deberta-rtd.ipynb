{
 "cells": [
  {
   "cell_type": "markdown",
   "id": "a6a5f100-9d4a-4fa8-a146-81db36ee2713",
   "metadata": {},
   "source": [
    "Trying to use an unmaintained deberta package, since HuggingFace does not support replaced token detection (RTD)."
   ]
  },
  {
   "cell_type": "code",
   "execution_count": 2,
   "id": "489f303b-d10e-469d-80ab-198fca44578a",
   "metadata": {},
   "outputs": [],
   "source": [
    "# conda create -n deberta ipykernel scipy python=3.9\n",
    "# SKLEARN_ALLOW_DEPRECATED_SKLEARN_PACKAGE_INSTALL=True pip install deberta"
   ]
  },
  {
   "cell_type": "code",
   "execution_count": 16,
   "id": "fe615306-e291-44e8-aa41-301c02880956",
   "metadata": {},
   "outputs": [
    {
     "name": "stdout",
     "output_type": "stream",
     "text": [
      "[CLS] - 0.4169638156890869\n",
      "▁The - 0.28968536853790283\n",
      "▁quick - 0.3809061646461487\n",
      "▁brown - 0.37623000144958496\n",
      "▁fox - 0.44079703092575073\n",
      "▁jumps - 0.3352523148059845\n",
      "▁over - 0.30622223019599915\n",
      "▁the - 0.3058890998363495\n",
      "▁lazy - 0.3761269450187683\n",
      "▁dog - 0.3800089657306671\n",
      ". - 0.4784148335456848\n",
      "[SEP] - 0.4149031341075897\n"
     ]
    }
   ],
   "source": [
    "import torch\n",
    "import torch.nn as nn\n",
    "from transformers import AutoTokenizer, AutoModel\n",
    "from typing import List, Tuple\n",
    "import torch.nn.functional as F\n",
    "\n",
    "class RTDHead(nn.Module):\n",
    "    def __init__(self, config):\n",
    "        super(RTDHead, self).__init__()\n",
    "        hidden_size = config.hidden_size\n",
    "        eps = config.layer_norm_eps\n",
    "\n",
    "        self.transform = nn.Sequential(\n",
    "            nn.Linear(hidden_size, hidden_size),\n",
    "            nn.LayerNorm(hidden_size, eps),\n",
    "            nn.GELU()\n",
    "        )\n",
    "        self.classifier = nn.Linear(hidden_size, 1)\n",
    "    \n",
    "    def forward(self, hidden_state):\n",
    "        # Get CLS token representation\n",
    "        ctx = hidden_state[:, 0]\n",
    "        # Add context to each token representation and transform\n",
    "        seq = self.transform(ctx[:, None, :] + hidden_state)\n",
    "        # Get binary classification logits\n",
    "        return self.classifier(seq).squeeze(-1)\n",
    "\n",
    "class RTDModel(nn.Module):\n",
    "    def __init__(self, model_name: str):\n",
    "        super(RTDModel, self).__init__()\n",
    "        self.transformer = AutoModel.from_pretrained(model_name)\n",
    "        config = self.transformer.config\n",
    "        self.head = RTDHead(config)\n",
    "        \n",
    "    def forward(self, input_ids, attention_mask=None, token_type_ids=None):\n",
    "        outputs = self.transformer(\n",
    "            input_ids=input_ids,\n",
    "            attention_mask=attention_mask,\n",
    "            token_type_ids=token_type_ids\n",
    "        )\n",
    "        \n",
    "        hidden_states = outputs.last_hidden_state\n",
    "        rtd_logits = self.head(hidden_states)\n",
    "        \n",
    "        # Convert logits to probabilities\n",
    "        rtd_probs = torch.sigmoid(rtd_logits)\n",
    "        \n",
    "        return {\n",
    "            'logits': rtd_logits,\n",
    "            'probs': rtd_probs,\n",
    "            'hidden_states': hidden_states\n",
    "        }\n",
    "\n",
    "class RTDScorer:\n",
    "    def __init__(self, model_name: str = \"microsoft/deberta-v3-base\", device: str = \"cuda\"):\n",
    "        self.device = device\n",
    "        self.tokenizer = AutoTokenizer.from_pretrained(model_name)\n",
    "        self.model = RTDModel(model_name).to(device)\n",
    "        self.model.eval()\n",
    "\n",
    "    def get_rtd_scores(self, text: str):\n",
    "        \"\"\"\n",
    "        Get RTD scores for words at specified positions.\n",
    "        Higher scores indicate the model believes the token is original (not replaced).\n",
    "        \n",
    "        Args:\n",
    "            text: Input text\n",
    "            word_positions: List of (start, end) character positions for words to score\n",
    "            \n",
    "        Returns:\n",
    "            List of RTD scores for each word position\n",
    "        \"\"\"\n",
    "        # Tokenize the text\n",
    "        inputs = self.tokenizer(\n",
    "            text,\n",
    "            return_tensors=\"pt\",\n",
    "        )\n",
    "        \n",
    "        # Move inputs to device\n",
    "        inputs.to('cuda')\n",
    "\n",
    "        # Get RTD scores\n",
    "        with torch.no_grad():\n",
    "            outputs = self.model(**inputs)\n",
    "            probs = outputs['probs'][0]  # Remove batch dimension\n",
    "\n",
    "        # Get tokens\n",
    "        tokens = self.tokenizer.convert_ids_to_tokens(inputs['input_ids'][0])\n",
    "                \n",
    "        return list(zip(tokens, probs.cpu().numpy()))\n",
    "\n",
    "scorer = RTDScorer()\n",
    "\n",
    "text = \"The quick brown fox jumps over the lazy dog.\"\n",
    "\n",
    "scores = scorer.get_rtd_scores(text)\n",
    "for token, prob in scores:\n",
    "    print(f\"{token} - {prob}\")"
   ]
  },
  {
   "cell_type": "code",
   "execution_count": 7,
   "id": "3af8f7af-3f38-4753-a728-d00a1052dbaf",
   "metadata": {},
   "outputs": [
    {
     "ename": "ModuleNotFoundError",
     "evalue": "No module named 'DeBERTa.deberta.apps'",
     "output_type": "error",
     "traceback": [
      "\u001b[0;31m---------------------------------------------------------------------------\u001b[0m",
      "\u001b[0;31mModuleNotFoundError\u001b[0m                       Traceback (most recent call last)",
      "Cell \u001b[0;32mIn[7], line 1\u001b[0m\n\u001b[0;32m----> 1\u001b[0m \u001b[38;5;28;01mfrom\u001b[39;00m\u001b[38;5;250m \u001b[39m\u001b[38;5;21;01mDeBERTa\u001b[39;00m\u001b[38;5;21;01m.\u001b[39;00m\u001b[38;5;21;01mdeberta\u001b[39;00m\u001b[38;5;21;01m.\u001b[39;00m\u001b[38;5;21;01mapps\u001b[39;00m\u001b[38;5;21;01m.\u001b[39;00m\u001b[38;5;21;01mmodels\u001b[39;00m\u001b[38;5;21;01m.\u001b[39;00m\u001b[38;5;21;01mreplac\u001b[39;00m\u001b[38;5;250m \u001b[39m\u001b[38;5;28;01mimport\u001b[39;00m ReplacedTokenDetectionModel\n\u001b[1;32m      2\u001b[0m \u001b[38;5;28;01mfrom\u001b[39;00m\u001b[38;5;250m \u001b[39m\u001b[38;5;21;01mtransformers\u001b[39;00m\u001b[38;5;250m \u001b[39m\u001b[38;5;28;01mimport\u001b[39;00m AutoTokenizer\n\u001b[1;32m      3\u001b[0m \u001b[38;5;28;01mimport\u001b[39;00m\u001b[38;5;250m \u001b[39m\u001b[38;5;21;01mtorch\u001b[39;00m\n",
      "\u001b[0;31mModuleNotFoundError\u001b[0m: No module named 'DeBERTa.deberta.apps'"
     ]
    }
   ],
   "source": [
    "from DeBERTa.deberta.apps.models.replac import ReplacedTokenDetectionModel\n",
    "from transformers import AutoTokenizer\n",
    "import torch\n",
    "\n",
    "model = ReplacedTokenDetectionModel.load_model(None, '/experiments/language_model/deberta_large.json')\n",
    "model.load_state_dict(torch.load('pytorch_model.bin'))\n",
    "tokenizer = AutoTokenizer.from_pretrained('microsoft/deberta-v3-base')\n",
    "\n",
    "input = tokenizer('The Chinese sports delegation is the last to enter the 2002 Winter Olympics',return_tensors='pt')\n",
    "out = model(\n",
    "    input_ids=input['input_ids'],\n",
    "    input_mask=input['attention_mask'],\n",
    "    labels=torch.tensor([0,0,0,0,0,0,0,0,0,0,0,1,0,0,0])\n",
    ")\n",
    "print(out['logits'])"
   ]
  }
 ],
 "metadata": {
  "kernelspec": {
   "display_name": "Python [conda env:hf]",
   "language": "python",
   "name": "conda-env-hf-py"
  },
  "language_info": {
   "codemirror_mode": {
    "name": "ipython",
    "version": 3
   },
   "file_extension": ".py",
   "mimetype": "text/x-python",
   "name": "python",
   "nbconvert_exporter": "python",
   "pygments_lexer": "ipython3",
   "version": "3.11.6"
  }
 },
 "nbformat": 4,
 "nbformat_minor": 5
}
