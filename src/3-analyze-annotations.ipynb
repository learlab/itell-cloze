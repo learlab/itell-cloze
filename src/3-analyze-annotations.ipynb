{
 "cells": [
  {
   "cell_type": "code",
   "execution_count": 80,
   "id": "ac160749-22c7-4d9e-9f46-acaba39aa2b9",
   "metadata": {},
   "outputs": [
    {
     "data": {
      "text/html": [
       "<div>\n",
       "<style scoped>\n",
       "    .dataframe tbody tr th:only-of-type {\n",
       "        vertical-align: middle;\n",
       "    }\n",
       "\n",
       "    .dataframe tbody tr th {\n",
       "        vertical-align: top;\n",
       "    }\n",
       "\n",
       "    .dataframe thead th {\n",
       "        text-align: right;\n",
       "    }\n",
       "</style>\n",
       "<table border=\"1\" class=\"dataframe\">\n",
       "  <thead>\n",
       "    <tr style=\"text-align: right;\">\n",
       "      <th></th>\n",
       "      <th>id</th>\n",
       "      <th>userId</th>\n",
       "      <th>method</th>\n",
       "      <th>passageId</th>\n",
       "      <th>score</th>\n",
       "      <th>timeSpent</th>\n",
       "      <th>answers</th>\n",
       "      <th>correctAnswers</th>\n",
       "      <th>annotations</th>\n",
       "      <th>holisticScore</th>\n",
       "      <th>timestamp</th>\n",
       "      <th>annotation_counts</th>\n",
       "      <th>pct_correct</th>\n",
       "    </tr>\n",
       "  </thead>\n",
       "  <tbody>\n",
       "    <tr>\n",
       "      <th>22</th>\n",
       "      <td>Xq3GVJQ5Lh7dx61D3uMv</td>\n",
       "      <td>FJ0pkfomjHUVSnW3EdJKRxM3lzN2</td>\n",
       "      <td>keyword</td>\n",
       "      <td>4</td>\n",
       "      <td>88.888889</td>\n",
       "      <td>532.417</td>\n",
       "      <td>[approach, empirical, questions, judgments, sc...</td>\n",
       "      <td>[approach, empirical, questions, questions, sc...</td>\n",
       "      <td>[sentence, sentence, sentence, source, sentenc...</td>\n",
       "      <td>2</td>\n",
       "      <td>2025-05-10T07:48:39.261Z</td>\n",
       "      <td>{'sentence': 8, 'source': 1}</td>\n",
       "      <td>88.888889</td>\n",
       "    </tr>\n",
       "    <tr>\n",
       "      <th>30</th>\n",
       "      <td>gtme2adseUp50UIeQtRe</td>\n",
       "      <td>8KxKTuoybIbVnALkryXvGxhTKED3</td>\n",
       "      <td>contextuality</td>\n",
       "      <td>10</td>\n",
       "      <td>40.000000</td>\n",
       "      <td>2324.491</td>\n",
       "      <td>[behavior, desires, behavior, cultures, view, ...</td>\n",
       "      <td>[cultures, freedom, cultures, cultures, like, ...</td>\n",
       "      <td>[passage, source, passage, source, sentence, s...</td>\n",
       "      <td>3</td>\n",
       "      <td>2025-05-11T19:34:28.661Z</td>\n",
       "      <td>{'passage': 3, 'source': 3, 'sentence': 4}</td>\n",
       "      <td>30.000000</td>\n",
       "    </tr>\n",
       "  </tbody>\n",
       "</table>\n",
       "</div>"
      ],
      "text/plain": [
       "                      id                        userId         method  \\\n",
       "22  Xq3GVJQ5Lh7dx61D3uMv  FJ0pkfomjHUVSnW3EdJKRxM3lzN2        keyword   \n",
       "30  gtme2adseUp50UIeQtRe  8KxKTuoybIbVnALkryXvGxhTKED3  contextuality   \n",
       "\n",
       "    passageId      score  timeSpent  \\\n",
       "22          4  88.888889    532.417   \n",
       "30         10  40.000000   2324.491   \n",
       "\n",
       "                                              answers  \\\n",
       "22  [approach, empirical, questions, judgments, sc...   \n",
       "30  [behavior, desires, behavior, cultures, view, ...   \n",
       "\n",
       "                                       correctAnswers  \\\n",
       "22  [approach, empirical, questions, questions, sc...   \n",
       "30  [cultures, freedom, cultures, cultures, like, ...   \n",
       "\n",
       "                                          annotations  holisticScore  \\\n",
       "22  [sentence, sentence, sentence, source, sentenc...              2   \n",
       "30  [passage, source, passage, source, sentence, s...              3   \n",
       "\n",
       "                   timestamp                           annotation_counts  \\\n",
       "22  2025-05-10T07:48:39.261Z                {'sentence': 8, 'source': 1}   \n",
       "30  2025-05-11T19:34:28.661Z  {'passage': 3, 'source': 3, 'sentence': 4}   \n",
       "\n",
       "    pct_correct  \n",
       "22    88.888889  \n",
       "30    30.000000  "
      ]
     },
     "execution_count": 80,
     "metadata": {},
     "output_type": "execute_result"
    }
   ],
   "source": [
    "import json\n",
    "from collections import Counter\n",
    "\n",
    "import pandas as pd\n",
    "import seaborn as sns\n",
    "import pingouin as pg\n",
    "\n",
    "df = (\n",
    "    pd.read_csv(\"../data/testResults_from_2025-05-07.csv\")\n",
    "    # Convert dictionaries to lists\n",
    "    .assign(\n",
    "        answers=lambda x: x[\"answers\"].apply(\n",
    "            lambda row: list(json.loads(row).values())\n",
    "        ),\n",
    "        correctAnswers=lambda x: x[\"correctAnswers\"].apply(\n",
    "            lambda row: list(json.loads(row).values())\n",
    "        ),\n",
    "        annotation_counts=lambda x: x[\"annotations\"].apply(\n",
    "            lambda row: Counter(json.loads(row).values())\n",
    "        ),\n",
    "        annotations=lambda x: x[\"annotations\"].apply(\n",
    "            lambda row: list(json.loads(row).values())\n",
    "        ),\n",
    "    )\n",
    "    # Calculate percentage correct\n",
    "    .assign(\n",
    "        pct_correct=lambda x: x.apply(\n",
    "            lambda row: sum(\n",
    "                a == c for a, c in zip(row[\"answers\"], row[\"correctAnswers\"])\n",
    "            )\n",
    "            / len(row[\"answers\"])\n",
    "            * 100,\n",
    "            axis=1,\n",
    "        )\n",
    "    )\n",
    ")\n",
    "\n",
    "df.sample(2)"
   ]
  },
  {
   "cell_type": "markdown",
   "id": "453ab57b-371f-47c9-a714-6a55ba40fc2b",
   "metadata": {},
   "source": [
    "## Stuff we want to Know\n",
    "\n",
    "The following, separately for each cloze generation method:\n",
    "- Holistic: Overall human rating of cloze exercise\n",
    "- Per-gap Ratings: Proportion of gaps that are unpredictable, source predictable, local predictable, or global predictable.\n",
    "- Score: Percentage of Answers Correct\n",
    "- Time Spent\n",
    "- Associations between correct/incorrect answers and per-gap ratings."
   ]
  },
  {
   "cell_type": "code",
   "execution_count": 81,
   "id": "e987441e-ad86-4abe-a662-d9be8f0119fd",
   "metadata": {},
   "outputs": [
    {
     "data": {
      "text/plain": [
       "method\n",
       "contextuality         9.448276\n",
       "contextuality_plus    9.000000\n",
       "keyword               5.842105\n",
       "Name: correctAnswers, dtype: float64"
      ]
     },
     "execution_count": 81,
     "metadata": {},
     "output_type": "execute_result"
    }
   ],
   "source": [
    "# Num Gaps\n",
    "df.groupby(\"method\")[\"correctAnswers\"].apply(lambda x: x.str.len().mean())"
   ]
  },
  {
   "cell_type": "code",
   "execution_count": 82,
   "id": "cc906085-7712-478d-8f1c-3d71dedfbbca",
   "metadata": {},
   "outputs": [
    {
     "data": {
      "text/plain": [
       "method\n",
       "contextuality         2.38\n",
       "contextuality_plus    2.91\n",
       "keyword               2.42\n",
       "Name: holisticScore, dtype: float64"
      ]
     },
     "execution_count": 82,
     "metadata": {},
     "output_type": "execute_result"
    }
   ],
   "source": [
    "# Holistic Score\n",
    "df.groupby(\"method\")[\"holisticScore\"].mean().round(2)"
   ]
  },
  {
   "cell_type": "code",
   "execution_count": 83,
   "id": "adff217a-07f8-4c99-8d7d-aef67da2fb38",
   "metadata": {},
   "outputs": [
    {
     "data": {
      "text/plain": [
       "<Axes: xlabel='method', ylabel='timeSpent'>"
      ]
     },
     "execution_count": 83,
     "metadata": {},
     "output_type": "execute_result"
    },
    {
     "data": {
      "image/png": "[encoded data removed]",
      "text/plain": [
       "<Figure size 640x480 with 1 Axes>"
      ]
     },
     "metadata": {},
     "output_type": "display_data"
    }
   ],
   "source": [
    "# Time Spent\n",
    "# Very not normal. Report percentiles.\n",
    "df.groupby(\"method\")[\"timeSpent\"].describe()\n",
    "\n",
    "sns.violinplot(data=df, x=\"method\", y=\"timeSpent\", hue=\"method\")"
   ]
  },
  {
   "cell_type": "code",
   "execution_count": 84,
   "id": "61797919-e19d-4bc4-8e0e-0352a4ec9378",
   "metadata": {},
   "outputs": [
    {
     "data": {
      "text/plain": [
       "method\n",
       "contextuality         60.20\n",
       "contextuality_plus    71.33\n",
       "keyword               87.28\n",
       "Name: pct_correct, dtype: float64"
      ]
     },
     "execution_count": 84,
     "metadata": {},
     "output_type": "execute_result"
    }
   ],
   "source": [
    "# Percent Correct\n",
    "df.groupby(\"method\")[\"pct_correct\"].mean().round(2)"
   ]
  },
  {
   "cell_type": "code",
   "execution_count": 85,
   "id": "7e26907b-31d2-4897-b614-018d971bad6e",
   "metadata": {},
   "outputs": [
    {
     "data": {
      "text/html": [
       "<div>\n",
       "<style scoped>\n",
       "    .dataframe tbody tr th:only-of-type {\n",
       "        vertical-align: middle;\n",
       "    }\n",
       "\n",
       "    .dataframe tbody tr th {\n",
       "        vertical-align: top;\n",
       "    }\n",
       "\n",
       "    .dataframe thead th {\n",
       "        text-align: right;\n",
       "    }\n",
       "</style>\n",
       "<table border=\"1\" class=\"dataframe\">\n",
       "  <thead>\n",
       "    <tr style=\"text-align: right;\">\n",
       "      <th></th>\n",
       "      <th>contextuality</th>\n",
       "      <th>contextuality_plus</th>\n",
       "      <th>keyword</th>\n",
       "    </tr>\n",
       "  </thead>\n",
       "  <tbody>\n",
       "    <tr>\n",
       "      <th>unpredictable</th>\n",
       "      <td>47 (17%)</td>\n",
       "      <td>31 (15%)</td>\n",
       "      <td>3 (3%)</td>\n",
       "    </tr>\n",
       "    <tr>\n",
       "      <th>sentence</th>\n",
       "      <td>94 (34%)</td>\n",
       "      <td>70 (34%)</td>\n",
       "      <td>41 (37%)</td>\n",
       "    </tr>\n",
       "    <tr>\n",
       "      <th>passage</th>\n",
       "      <td>48 (18%)</td>\n",
       "      <td>37 (18%)</td>\n",
       "      <td>41 (37%)</td>\n",
       "    </tr>\n",
       "    <tr>\n",
       "      <th>source</th>\n",
       "      <td>85 (31%)</td>\n",
       "      <td>69 (33%)</td>\n",
       "      <td>26 (23%)</td>\n",
       "    </tr>\n",
       "  </tbody>\n",
       "</table>\n",
       "</div>"
      ],
      "text/plain": [
       "              contextuality contextuality_plus   keyword\n",
       "unpredictable      47 (17%)           31 (15%)    3 (3%)\n",
       "sentence           94 (34%)           70 (34%)  41 (37%)\n",
       "passage            48 (18%)           37 (18%)  41 (37%)\n",
       "source             85 (31%)           69 (33%)  26 (23%)"
      ]
     },
     "metadata": {},
     "output_type": "display_data"
    }
   ],
   "source": [
    "# Per-gap Ratings\n",
    "count_df = pd.DataFrame(index=[\"unpredictable\", \"sentence\", \"passage\", \"source\"])\n",
    "\n",
    "for name, grp in df.groupby(\"method\")[\"annotation_counts\"]:\n",
    "    counter = Counter()\n",
    "    for cntr in grp:\n",
    "        counter.update(cntr)\n",
    "\n",
    "    counts = pd.DataFrame.from_dict(counter, orient=\"index\")[0]  # Extract the series\n",
    "    percentages = (counts / counts.sum()) * 100\n",
    "    count_df[name] = [f\"{counts[x]} ({percentages[x]:.0f}%)\" for x in count_df.index]\n",
    "\n",
    "display(count_df)"
   ]
  },
  {
   "cell_type": "code",
   "execution_count": 86,
   "id": "e46deba2-5146-496b-9da8-bf4cbe699e2d",
   "metadata": {},
   "outputs": [
    {
     "data": {
      "text/html": [
       "<div>\n",
       "<style scoped>\n",
       "    .dataframe tbody tr th:only-of-type {\n",
       "        vertical-align: middle;\n",
       "    }\n",
       "\n",
       "    .dataframe tbody tr th {\n",
       "        vertical-align: top;\n",
       "    }\n",
       "\n",
       "    .dataframe thead th {\n",
       "        text-align: right;\n",
       "    }\n",
       "</style>\n",
       "<table border=\"1\" class=\"dataframe\">\n",
       "  <thead>\n",
       "    <tr style=\"text-align: right;\">\n",
       "      <th></th>\n",
       "      <th>Source</th>\n",
       "      <th>ddof1</th>\n",
       "      <th>ddof2</th>\n",
       "      <th>F</th>\n",
       "      <th>p-unc</th>\n",
       "      <th>np2</th>\n",
       "    </tr>\n",
       "  </thead>\n",
       "  <tbody>\n",
       "    <tr>\n",
       "      <th>0</th>\n",
       "      <td>method</td>\n",
       "      <td>2</td>\n",
       "      <td>68</td>\n",
       "      <td>2.570383</td>\n",
       "      <td>0.083923</td>\n",
       "      <td>0.070286</td>\n",
       "    </tr>\n",
       "  </tbody>\n",
       "</table>\n",
       "</div>"
      ],
      "text/plain": [
       "   Source  ddof1  ddof2         F     p-unc       np2\n",
       "0  method      2     68  2.570383  0.083923  0.070286"
      ]
     },
     "metadata": {},
     "output_type": "display_data"
    },
    {
     "data": {
      "text/html": [
       "<div>\n",
       "<style scoped>\n",
       "    .dataframe tbody tr th:only-of-type {\n",
       "        vertical-align: middle;\n",
       "    }\n",
       "\n",
       "    .dataframe tbody tr th {\n",
       "        vertical-align: top;\n",
       "    }\n",
       "\n",
       "    .dataframe thead th {\n",
       "        text-align: right;\n",
       "    }\n",
       "</style>\n",
       "<table border=\"1\" class=\"dataframe\">\n",
       "  <thead>\n",
       "    <tr style=\"text-align: right;\">\n",
       "      <th></th>\n",
       "      <th>A</th>\n",
       "      <th>B</th>\n",
       "      <th>mean(A)</th>\n",
       "      <th>mean(B)</th>\n",
       "      <th>diff</th>\n",
       "      <th>se</th>\n",
       "      <th>T</th>\n",
       "      <th>p-tukey</th>\n",
       "      <th>hedges</th>\n",
       "    </tr>\n",
       "  </thead>\n",
       "  <tbody>\n",
       "    <tr>\n",
       "      <th>0</th>\n",
       "      <td>contextuality</td>\n",
       "      <td>contextuality_plus</td>\n",
       "      <td>2.379310</td>\n",
       "      <td>2.913043</td>\n",
       "      <td>-0.533733</td>\n",
       "      <td>0.251761</td>\n",
       "      <td>-2.119997</td>\n",
       "      <td>0.093306</td>\n",
       "      <td>-0.671384</td>\n",
       "    </tr>\n",
       "    <tr>\n",
       "      <th>1</th>\n",
       "      <td>contextuality</td>\n",
       "      <td>keyword</td>\n",
       "      <td>2.379310</td>\n",
       "      <td>2.421053</td>\n",
       "      <td>-0.041742</td>\n",
       "      <td>0.266131</td>\n",
       "      <td>-0.156849</td>\n",
       "      <td>0.986531</td>\n",
       "      <td>-0.045499</td>\n",
       "    </tr>\n",
       "    <tr>\n",
       "      <th>2</th>\n",
       "      <td>contextuality_plus</td>\n",
       "      <td>keyword</td>\n",
       "      <td>2.913043</td>\n",
       "      <td>2.421053</td>\n",
       "      <td>0.491991</td>\n",
       "      <td>0.279534</td>\n",
       "      <td>1.760041</td>\n",
       "      <td>0.190836</td>\n",
       "      <td>0.468529</td>\n",
       "    </tr>\n",
       "  </tbody>\n",
       "</table>\n",
       "</div>"
      ],
      "text/plain": [
       "                    A                   B   mean(A)   mean(B)      diff  \\\n",
       "0       contextuality  contextuality_plus  2.379310  2.913043 -0.533733   \n",
       "1       contextuality             keyword  2.379310  2.421053 -0.041742   \n",
       "2  contextuality_plus             keyword  2.913043  2.421053  0.491991   \n",
       "\n",
       "         se         T   p-tukey    hedges  \n",
       "0  0.251761 -2.119997  0.093306 -0.671384  \n",
       "1  0.266131 -0.156849  0.986531 -0.045499  \n",
       "2  0.279534  1.760041  0.190836  0.468529  "
      ]
     },
     "metadata": {},
     "output_type": "display_data"
    }
   ],
   "source": [
    "# One-way ANOVA\n",
    "anova_result = pg.anova(data=df, dv=\"holisticScore\", between=\"method\")\n",
    "display(anova_result)\n",
    "\n",
    "# Post-hoc pairwise comparisons\n",
    "posthoc = pg.pairwise_tukey(data=df, dv=\"holisticScore\", between=\"method\")\n",
    "display(posthoc)"
   ]
  },
  {
   "cell_type": "code",
   "execution_count": 87,
   "id": "4e79e955-d8f9-490c-a465-7df7c8e9d6b0",
   "metadata": {},
   "outputs": [
    {
     "data": {
      "image/png": "[encoded data removed]",
      "text/plain": [
       "<Figure size 640x480 with 1 Axes>"
      ]
     },
     "metadata": {},
     "output_type": "display_data"
    }
   ],
   "source": [
    "sns.barplot(df, x=\"method\", y=\"holisticScore\", hue=\"method\", legend=False);"
   ]
  },
  {
   "cell_type": "markdown",
   "id": "90112c3e-9ae5-4520-8b05-dda930c3da3d",
   "metadata": {},
   "source": [
    "# Per-gap Ratings Deep Dive"
   ]
  },
  {
   "cell_type": "code",
   "execution_count": 90,
   "id": "c741863d-4fa7-49f0-96b9-137865a20fb6",
   "metadata": {},
   "outputs": [],
   "source": [
    "guesses = []\n",
    "correct_answers = []\n",
    "ratings = []\n",
    "\n",
    "for row in df.itertuples():\n",
    "    guesses.extend(row.answers)\n",
    "    correct_answers.extend(row.correctAnswers)\n",
    "    ratings.extend(row.annotations)\n",
    "\n",
    "assert len(guesses) == len(correct_answers) == len(ratings)"
   ]
  },
  {
   "cell_type": "code",
   "execution_count": 102,
   "id": "80c8affc-8efb-49e6-8db7-5e9c09dee980",
   "metadata": {},
   "outputs": [
    {
     "name": "stdout",
     "output_type": "stream",
     "text": [
      "18\n",
      "  Correct Counter:  Counter({'sentence': 156, 'source': 145, 'passage': 99, 'unpredictable': 9})\n",
      "Incorrect Counter:  Counter({'unpredictable': 54, 'sentence': 49, 'source': 35, 'passage': 27})\n"
     ]
    }
   ],
   "source": [
    "correct_counter = Counter()\n",
    "incorrect_counter = Counter()\n",
    "no_guess = 0\n",
    "\n",
    "for guess, correct_answer, rating in zip(guesses, correct_answers, ratings):\n",
    "    if guess == correct_answer:\n",
    "        correct_counter[rating] += 1\n",
    "    else:\n",
    "        if rating == \"unpredictable\":\n",
    "            # print(f\"Guess:  {guess}\")\n",
    "            # print(f\"Answer: {correct_answer}\")\n",
    "            # print()\n",
    "            if guess.strip() == \"\" or guess == \"unanswered\":\n",
    "                no_guess += 1\n",
    "            else:\n",
    "                incorrect_counter[rating] += 1\n",
    "        else:\n",
    "            incorrect_counter[rating] += 1\n",
    "\n",
    "\n",
    "print(no_guess)\n",
    "print(\"  Correct Counter: \", correct_counter)\n",
    "print(\"Incorrect Counter: \", incorrect_counter)"
   ]
  }
 ],
 "metadata": {
  "kernelspec": {
   "display_name": "Python [conda env:base] *",
   "language": "python",
   "name": "conda-base-py"
  },
  "language_info": {
   "codemirror_mode": {
    "name": "ipython",
    "version": 3
   },
   "file_extension": ".py",
   "mimetype": "text/x-python",
   "name": "python",
   "nbconvert_exporter": "python",
   "pygments_lexer": "ipython3",
   "version": "3.11.6"
  }
 },
 "nbformat": 4,
 "nbformat_minor": 5
}
